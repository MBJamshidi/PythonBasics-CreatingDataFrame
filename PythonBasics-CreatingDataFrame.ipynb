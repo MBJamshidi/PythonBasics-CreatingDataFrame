{
 "cells": [
  {
   "cell_type": "code",
   "execution_count": 1,
   "metadata": {},
   "outputs": [
    {
     "name": "stdout",
     "output_type": "stream",
     "text": [
      "                     Measure1          Measure2            Measure3  Results\n",
      "0                          a1                ZZ  DataFrameDataFrame     1232\n",
      "1             [1, 2, 3, 4, 5]                WW        BehdadBehdad     3432\n",
      "2         Creating Data Frame  [23, 737, 34.56]                  b1      788\n",
      "3  The keys >>> column labels     2435GDSSSSS87                  c1    46554\n"
     ]
    },
    {
     "data": {
      "text/html": [
       "<div>\n",
       "<style scoped>\n",
       "    .dataframe tbody tr th:only-of-type {\n",
       "        vertical-align: middle;\n",
       "    }\n",
       "\n",
       "    .dataframe tbody tr th {\n",
       "        vertical-align: top;\n",
       "    }\n",
       "\n",
       "    .dataframe thead th {\n",
       "        text-align: right;\n",
       "    }\n",
       "</style>\n",
       "<table border=\"1\" class=\"dataframe\">\n",
       "  <thead>\n",
       "    <tr style=\"text-align: right;\">\n",
       "      <th></th>\n",
       "      <th>Measure1</th>\n",
       "      <th>Measure2</th>\n",
       "      <th>Measure3</th>\n",
       "      <th>Results</th>\n",
       "    </tr>\n",
       "  </thead>\n",
       "  <tbody>\n",
       "    <tr>\n",
       "      <th>0</th>\n",
       "      <td>a1</td>\n",
       "      <td>ZZ</td>\n",
       "      <td>DataFrameDataFrame</td>\n",
       "      <td>1232</td>\n",
       "    </tr>\n",
       "    <tr>\n",
       "      <th>1</th>\n",
       "      <td>[1, 2, 3, 4, 5]</td>\n",
       "      <td>WW</td>\n",
       "      <td>BehdadBehdad</td>\n",
       "      <td>3432</td>\n",
       "    </tr>\n",
       "    <tr>\n",
       "      <th>2</th>\n",
       "      <td>Creating Data Frame</td>\n",
       "      <td>[23, 737, 34.56]</td>\n",
       "      <td>b1</td>\n",
       "      <td>788</td>\n",
       "    </tr>\n",
       "    <tr>\n",
       "      <th>3</th>\n",
       "      <td>The keys &gt;&gt;&gt; column labels</td>\n",
       "      <td>2435GDSSSSS87</td>\n",
       "      <td>c1</td>\n",
       "      <td>46554</td>\n",
       "    </tr>\n",
       "  </tbody>\n",
       "</table>\n",
       "</div>"
      ],
      "text/plain": [
       "                     Measure1          Measure2            Measure3  Results\n",
       "0                          a1                ZZ  DataFrameDataFrame     1232\n",
       "1             [1, 2, 3, 4, 5]                WW        BehdadBehdad     3432\n",
       "2         Creating Data Frame  [23, 737, 34.56]                  b1      788\n",
       "3  The keys >>> column labels     2435GDSSSSS87                  c1    46554"
      ]
     },
     "execution_count": 1,
     "metadata": {},
     "output_type": "execute_result"
    }
   ],
   "source": [
    "#Python Basics\n",
    "#Creating Data Frame using \"DataFrame Method\"\n",
    "#We can create a data frame out of a dictionary\n",
    "#The keys correspond to the column labels\n",
    "import pandas as PD\n",
    "#Make sure that the arrays must all be same length\n",
    "CrDataFrame1={\"Measure1\":[\"a1\", [1,2,3,4,5], \"Creating Data Frame\", \"The keys >>> column labels\"],\\\n",
    "                       \"Measure2\": [\"ZZ\",\"WW\", [23, 737,  34.56], \"2435GDSSSSS87\"],\\\n",
    "              \"Measure3\":[\"DataFrame\"*2, \"Behdad\"*2, \"b1\", \"c1\"], \"Results\":[1232, 3432, 788,46554]}\n",
    "#The keys correspond to the column labels\n",
    "#The values or lists corresponding to the rows\n",
    "#We then cast the dictionary to a data frame using the function data frame\n",
    "CrDataFrame2=PD.DataFrame(CrDataFrame1)\n",
    "print(CrDataFrame2)\n",
    "\n",
    "CrDataFrame2.head()"
   ]
  },
  {
   "cell_type": "code",
   "execution_count": 2,
   "metadata": {},
   "outputs": [
    {
     "name": "stdout",
     "output_type": "stream",
     "text": [
      "                     Measure1          Measure2            Measure3  Results\n",
      "0                          a1                ZZ  DataFrameDataFrame     1232\n",
      "1             [1, 2, 3, 4, 5]                WW        BehdadBehdad     3432\n",
      "2         Creating Data Frame  [23, 737, 34.56]                  b1      788\n",
      "3  The keys >>> column labels     2435GDSSSSS87                  c1    46554\n",
      "\n",
      "\n",
      "\n",
      "\n",
      " Please pay attention to the above table\n",
      " When it comes to demonstrating table with HEAD METHOD\n"
     ]
    },
    {
     "data": {
      "text/html": [
       "<div>\n",
       "<style scoped>\n",
       "    .dataframe tbody tr th:only-of-type {\n",
       "        vertical-align: middle;\n",
       "    }\n",
       "\n",
       "    .dataframe tbody tr th {\n",
       "        vertical-align: top;\n",
       "    }\n",
       "\n",
       "    .dataframe thead th {\n",
       "        text-align: right;\n",
       "    }\n",
       "</style>\n",
       "<table border=\"1\" class=\"dataframe\">\n",
       "  <thead>\n",
       "    <tr style=\"text-align: right;\">\n",
       "      <th></th>\n",
       "      <th>Q1</th>\n",
       "      <th>Q2</th>\n",
       "      <th>Q3</th>\n",
       "      <th>Q4</th>\n",
       "    </tr>\n",
       "  </thead>\n",
       "  <tbody>\n",
       "    <tr>\n",
       "      <th>0</th>\n",
       "      <td>2</td>\n",
       "      <td>ZZ</td>\n",
       "      <td>0.010</td>\n",
       "      <td>132</td>\n",
       "    </tr>\n",
       "    <tr>\n",
       "      <th>1</th>\n",
       "      <td>45</td>\n",
       "      <td>WW</td>\n",
       "      <td>0.020</td>\n",
       "      <td>3432</td>\n",
       "    </tr>\n",
       "    <tr>\n",
       "      <th>2</th>\n",
       "      <td>0.05</td>\n",
       "      <td>B</td>\n",
       "      <td>0.078</td>\n",
       "      <td>788</td>\n",
       "    </tr>\n",
       "    <tr>\n",
       "      <th>3</th>\n",
       "      <td>98</td>\n",
       "      <td>xzsx</td>\n",
       "      <td>11.000</td>\n",
       "      <td>4655</td>\n",
       "    </tr>\n",
       "    <tr>\n",
       "      <th>4</th>\n",
       "      <td>36</td>\n",
       "      <td>11</td>\n",
       "      <td>1.000</td>\n",
       "      <td>45</td>\n",
       "    </tr>\n",
       "  </tbody>\n",
       "</table>\n",
       "</div>"
      ],
      "text/plain": [
       "     Q1    Q2      Q3    Q4\n",
       "0     2    ZZ   0.010   132\n",
       "1    45    WW   0.020  3432\n",
       "2  0.05     B   0.078   788\n",
       "3    98  xzsx  11.000  4655\n",
       "4    36    11   1.000    45"
      ]
     },
     "execution_count": 2,
     "metadata": {},
     "output_type": "execute_result"
    }
   ],
   "source": [
    "#Example\n",
    "#Creating Data Frame using \"DataFrame Method\"\n",
    "\n",
    "import pandas as PD\n",
    "CrData={\"Q1\":[2, 45, 0.05,98,36, 82, \"Seven\"],\"Q2\": [\"ZZ\",\"WW\",\"B\", \"xzsx\", 11, 14, \"t\"],\\\n",
    "              \"Q3\":[0.01,0.02, 0.078, 11, 1, 1.0001, 101110], \"Q4\":[132, 3432, 788,4655,45,\"PIPI\",\"Ux\"]}\n",
    "CrData=PD.DataFrame(CrData)\n",
    "print(CrDataFrame2)\n",
    "print(\"\\n\\n\\n\\n Please pay attention to the above table\\n When it comes to demonstrating table with HEAD METHOD\")\n",
    "CrData.head()"
   ]
  }
 ],
 "metadata": {
  "kernelspec": {
   "display_name": "Python 3",
   "language": "python",
   "name": "python3"
  },
  "language_info": {
   "codemirror_mode": {
    "name": "ipython",
    "version": 3
   },
   "file_extension": ".py",
   "mimetype": "text/x-python",
   "name": "python",
   "nbconvert_exporter": "python",
   "pygments_lexer": "ipython3",
   "version": "3.7.6"
  }
 },
 "nbformat": 4,
 "nbformat_minor": 4
}
